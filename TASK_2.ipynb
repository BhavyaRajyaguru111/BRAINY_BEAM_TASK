{
 "cells": [
  {
   "cell_type": "code",
   "execution_count": 1,
   "id": "585a9b36",
   "metadata": {},
   "outputs": [],
   "source": [
    "import numpy as np\n",
    "import pandas as pd"
   ]
  },
  {
   "cell_type": "code",
   "execution_count": 2,
   "id": "0345d166",
   "metadata": {},
   "outputs": [],
   "source": [
    "np.random.seed(42)"
   ]
  },
  {
   "cell_type": "code",
   "execution_count": 3,
   "id": "ebcebfc2",
   "metadata": {},
   "outputs": [],
   "source": [
    "data = {\n",
    "    'Area (sq ft)': np.random.randint(800, 5000, size=20),\n",
    "    'Bedrooms': np.random.randint(1, 6, size=20),\n",
    "    'Bathrooms': np.random.randint(1, 4, size=20),\n",
    "}"
   ]
  },
  {
   "cell_type": "code",
   "execution_count": 4,
   "id": "94904b1d",
   "metadata": {},
   "outputs": [],
   "source": [
    "df = pd.DataFrame(data)"
   ]
  },
  {
   "cell_type": "code",
   "execution_count": 5,
   "id": "795e3c0a",
   "metadata": {},
   "outputs": [
    {
     "name": "stdout",
     "output_type": "stream",
     "text": [
      "    Area (sq ft)  Bedrooms  Bathrooms\n",
      "0           1660         4          2\n",
      "1           4572         4          3\n",
      "2           3892         3          3\n",
      "3           1266         4          1\n",
      "4           4244         4          3\n",
      "5           3971         1          3\n",
      "6           3719         3          2\n",
      "7            930         5          1\n",
      "8           2485         3          2\n",
      "9           1569         5          2\n",
      "10          3191         1          2\n",
      "11          3233         2          2\n",
      "12          1984         4          2\n",
      "13          4185         1          2\n",
      "14          4917         4          2\n",
      "15          3704         2          1\n",
      "16          1274         2          3\n",
      "17          1882         1          2\n",
      "18          3358         2          2\n",
      "19          2847         5          2\n"
     ]
    }
   ],
   "source": [
    "print (df)"
   ]
  },
  {
   "cell_type": "code",
   "execution_count": 6,
   "id": "3eec1a73",
   "metadata": {},
   "outputs": [
    {
     "name": "stdout",
     "output_type": "stream",
     "text": [
      "Requirement already satisfied: scikit-learn in c:\\users\\lenovo\\anaconda3\\lib\\site-packages (1.4.2)\n",
      "Requirement already satisfied: numpy>=1.19.5 in c:\\users\\lenovo\\anaconda3\\lib\\site-packages (from scikit-learn) (1.24.3)\n",
      "Requirement already satisfied: scipy>=1.6.0 in c:\\users\\lenovo\\anaconda3\\lib\\site-packages (from scikit-learn) (1.11.1)\n",
      "Requirement already satisfied: joblib>=1.2.0 in c:\\users\\lenovo\\anaconda3\\lib\\site-packages (from scikit-learn) (1.2.0)\n",
      "Requirement already satisfied: threadpoolctl>=2.0.0 in c:\\users\\lenovo\\anaconda3\\lib\\site-packages (from scikit-learn) (2.2.0)\n",
      "Note: you may need to restart the kernel to use updated packages.\n"
     ]
    }
   ],
   "source": [
    "pip install scikit-learn"
   ]
  },
  {
   "cell_type": "code",
   "execution_count": 7,
   "id": "f6f6655b",
   "metadata": {},
   "outputs": [
    {
     "name": "stdout",
     "output_type": "stream",
     "text": [
      "Generated DataFrame:\n",
      "    Area (sq ft)  Bedrooms  Bathrooms  House Price ($)\n",
      "0           1660         4          2           363297\n",
      "1           4572         4          3           827357\n",
      "2           3892         3          3           679795\n",
      "3           1266         4          1           324387\n",
      "4           4244         4          3           763134\n",
      "5           3971         1          3           679777\n",
      "6           3719         3          2           655479\n",
      "7            930         5          1           292874\n",
      "8           2485         3          2           488601\n",
      "9           1569         5          2           366366\n",
      "10          3191         1          2           552903\n",
      "11          3233         2          2           577773\n",
      "12          1984         4          2           431876\n",
      "13          4185         1          2           700997\n",
      "14          4917         4          2           871850\n",
      "15          3704         2          1           629129\n",
      "16          1274         2          3           283362\n",
      "17          1882         1          2           341568\n",
      "18          3358         2          2           594971\n",
      "19          2847         5          2           569235\n",
      "\n",
      "Mean Squared Error: 379499463.96\n",
      "\n",
      "Model Coefficients:\n",
      "Area Coefficient: 149.47814028673073\n",
      "Bedrooms Coefficient: 16333.421319335592\n",
      "Bathrooms Coefficient: -4203.674916725913\n"
     ]
    }
   ],
   "source": [
    "import pandas as pd\n",
    "import numpy as np\n",
    "from sklearn.model_selection import train_test_split\n",
    "from sklearn.linear_model import LinearRegression\n",
    "from sklearn.metrics import mean_squared_error\n",
    "\n",
    "# Seed for reproducibility\n",
    "np.random.seed(42)\n",
    "\n",
    "# Generate sample data\n",
    "data = {\n",
    "    'Area (sq ft)': np.random.randint(800, 5000, size=20),\n",
    "    'Bedrooms': np.random.randint(1, 6, size=20),\n",
    "    'Bathrooms': np.random.randint(1, 4, size=20),\n",
    "}\n",
    "\n",
    "df = pd.DataFrame(data)\n",
    "\n",
    "# Create a target variable (House Price) based on some linear combination of the features\n",
    "# This is just for demonstration; in a real-world scenario, this would come from actual data\n",
    "df['House Price ($)'] = (df['Area (sq ft)'] * 150) + (df['Bedrooms'] * 20000) + (df['Bathrooms'] * 5000) + np.random.randint(20000, 50000, size=20)\n",
    "\n",
    "# Display the DataFrame\n",
    "print(\"Generated DataFrame:\")\n",
    "print(df)\n",
    "\n",
    "# Features and target\n",
    "X = df[['Area (sq ft)', 'Bedrooms', 'Bathrooms']]\n",
    "y = df['House Price ($)']\n",
    "\n",
    "# Split the data into training and testing sets\n",
    "X_train, X_test, y_train, y_test = train_test_split(X, y, test_size=0.2, random_state=42)\n",
    "\n",
    "# Initialize and train the model\n",
    "model = LinearRegression()\n",
    "model.fit(X_train, y_train)\n",
    "\n",
    "# Make predictions\n",
    "y_pred = model.predict(X_test)\n",
    "\n",
    "# Evaluate the model\n",
    "mse = mean_squared_error(y_test, y_pred)\n",
    "print(f\"\\nMean Squared Error: {mse:.2f}\")\n",
    "\n",
    "# Print model coefficients\n",
    "print(\"\\nModel Coefficients:\")\n",
    "print(f\"Area Coefficient: {model.coef_[0]}\")\n",
    "print(f\"Bedrooms Coefficient: {model.coef_[1]}\")\n",
    "print(f\"Bathrooms Coefficient: {model.coef_[2]}\")\n"
   ]
  },
  {
   "cell_type": "code",
   "execution_count": null,
   "id": "5c011c79",
   "metadata": {},
   "outputs": [],
   "source": []
  },
  {
   "cell_type": "code",
   "execution_count": null,
   "id": "85428aa2",
   "metadata": {},
   "outputs": [],
   "source": []
  }
 ],
 "metadata": {
  "kernelspec": {
   "display_name": "Python 3 (ipykernel)",
   "language": "python",
   "name": "python3"
  },
  "language_info": {
   "codemirror_mode": {
    "name": "ipython",
    "version": 3
   },
   "file_extension": ".py",
   "mimetype": "text/x-python",
   "name": "python",
   "nbconvert_exporter": "python",
   "pygments_lexer": "ipython3",
   "version": "3.11.5"
  }
 },
 "nbformat": 4,
 "nbformat_minor": 5
}
