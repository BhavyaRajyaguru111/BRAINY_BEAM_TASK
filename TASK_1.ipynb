{
 "cells": [
  {
   "cell_type": "code",
   "execution_count": 1,
   "id": "b816931c",
   "metadata": {},
   "outputs": [
    {
     "name": "stdout",
     "output_type": "stream",
     "text": [
      "Category\n",
      "A    40\n",
      "B    40\n",
      "Name: Value, dtype: int64\n",
      "Category\n",
      "A    40\n",
      "B    40\n",
      "Name: Value, dtype: int64\n"
     ]
    }
   ],
   "source": [
    "import pandas as pd\n",
    "\n",
    "data = {\n",
    "    'Category': ['A', 'B', 'A', 'B', 'A', 'B'],\n",
    "    'Value': [10, 20, 30, 40, 50, 60]\n",
    "}\n",
    "\n",
    "df = pd.DataFrame(data)\n",
    "\n",
    "def custom_agg(series):\n",
    "    return series.max() - series.min()\n",
    "\n",
    "result = df.groupby('Category')['Value'].agg(custom_agg)\n",
    "\n",
    "print(result)\n",
    "\n",
    "import pandas as pd\n",
    "\n",
    "# Sample DataFrame\n",
    "data = {\n",
    "    'Category': ['A', 'B', 'A', 'B', 'A', 'B'],\n",
    "    'Value': [10, 20, 30, 40, 50, 60]\n",
    "}\n",
    "\n",
    "df = pd.DataFrame(data)\n",
    "\n",
    "# Custom aggregation function\n",
    "def custom_agg(series):\n",
    "    return series.max() - series.min()\n",
    "\n",
    "# Group by and aggregate\n",
    "result = df.groupby('Category')['Value'].agg(custom_agg)\n",
    "\n",
    "# Display the result\n",
    "print(result)\n",
    "\n"
   ]
  }
 ],
 "metadata": {
  "kernelspec": {
   "display_name": "Python 3 (ipykernel)",
   "language": "python",
   "name": "python3"
  },
  "language_info": {
   "codemirror_mode": {
    "name": "ipython",
    "version": 3
   },
   "file_extension": ".py",
   "mimetype": "text/x-python",
   "name": "python",
   "nbconvert_exporter": "python",
   "pygments_lexer": "ipython3",
   "version": "3.11.5"
  }
 },
 "nbformat": 4,
 "nbformat_minor": 5
}
